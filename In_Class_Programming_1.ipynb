{
  "nbformat": 4,
  "nbformat_minor": 0,
  "metadata": {
    "colab": {
      "provenance": []
    },
    "kernelspec": {
      "name": "python3",
      "display_name": "Python 3"
    },
    "language_info": {
      "name": "python"
    }
  },
  "cells": [
    {
      "cell_type": "code",
      "execution_count": 3,
      "metadata": {
        "colab": {
          "base_uri": "https://localhost:8080/"
        },
        "id": "vmLv-6A2DkUb",
        "outputId": "7779daef-23a0-47f2-f83f-c8f6c21514fb"
      },
      "outputs": [
        {
          "output_type": "stream",
          "name": "stdout",
          "text": [
            "Enter the required string: python\n",
            "htyp\n",
            "Enter the first number: 6\n",
            "Enter the second number: 3\n",
            "6 + 3 is 9\n",
            "6 - 3 is 3\n",
            "6 * 3 is 18\n",
            "6 / 3 is 2.0\n",
            "\n",
            "Enter a sentence that includes python: I love python\n",
            "I love pythons\n",
            "Enter the student's grade: 82\n",
            "Student got a B\n"
          ]
        }
      ],
      "source": [
        "# question a\n",
        "String1 = input(\"Enter the required string: \")\n",
        "\n",
        "newString = String1.replace(\"o\", \"\").replace(\"n\",\"\")\n",
        "\n",
        "def reverse(string):\n",
        "    string = string[::-1]\n",
        "    return string\n",
        "\n",
        "print(reverse(newString))\n",
        "\n",
        "# question b\n",
        "num1 = eval(input(\"Enter the first number: \"))\n",
        "num2 = eval(input(\"Enter the second number: \"))\n",
        "\n",
        "addition = num1 + num2\n",
        "subtraction = num1 - num2\n",
        "multiplication = num1 * num2\n",
        "division = num1 / num2\n",
        "\n",
        "print(f\"{num1} + {num2} is {addition}\")\n",
        "print(f\"{num1} - {num2} is {subtraction}\")\n",
        "print(f\"{num1} * {num2} is {multiplication}\")\n",
        "print(f\"{num1} / {num2} is {division}\")\n",
        "\n",
        "#question c\n",
        "myString = input(\"\\nEnter a sentence that includes python: \")\n",
        "newMyString = myString.replace(\"python\", \"pythons\")\n",
        "print(newMyString)\n",
        "\n",
        "#question d\n",
        "letterGrade = eval(input(\"Enter the student's grade: \"))\n",
        "if letterGrade >= 90:\n",
        "    print(\"Student got an A\")\n",
        "elif letterGrade >= 80:\n",
        "    print(\"Student got a B\")\n",
        "elif letterGrade >= 70:\n",
        "    print(\"Student got a C\")\n",
        "elif letterGrade >= 60:\n",
        "    print(\"Student got a D\")\n",
        "else:\n",
        "    print(\"Student got an F\")"
      ]
    }
  ]
}